{
 "cells": [
  {
   "cell_type": "code",
   "execution_count": 1,
   "id": "29c021b5-66a2-4728-854d-c4fbab73f0c4",
   "metadata": {},
   "outputs": [],
   "source": [
    "#Import the pandas library\n",
    "import pandas as pd"
   ]
  },
  {
   "cell_type": "code",
   "execution_count": 2,
   "id": "bb056127-34e4-4b0e-b2df-06cafaf0ffa7",
   "metadata": {},
   "outputs": [],
   "source": [
    "#Load the dataset into a pandas dataframe\n",
    "df = pd.read_csv('exam_grades.csv')"
   ]
  },
  {
   "cell_type": "code",
   "execution_count": 3,
   "id": "34e437db-9715-44b3-a073-f02a9526bdbb",
   "metadata": {},
   "outputs": [
    {
     "data": {
      "text/plain": [
       "50"
      ]
     },
     "execution_count": 3,
     "metadata": {},
     "output_type": "execute_result"
    }
   ],
   "source": [
    "#How many rows are in the dataset?\n",
    "len(df.index)"
   ]
  },
  {
   "cell_type": "code",
   "execution_count": 4,
   "id": "ab995a3a-4918-4e20-bbd4-bcacca4655d1",
   "metadata": {},
   "outputs": [
    {
     "data": {
      "text/plain": [
       "3"
      ]
     },
     "execution_count": 4,
     "metadata": {},
     "output_type": "execute_result"
    }
   ],
   "source": [
    "#How many columns are in the dataset?\n",
    "len(df.columns)"
   ]
  },
  {
   "cell_type": "code",
   "execution_count": 5,
   "id": "9a1a3644-0f4b-4756-8116-b7e149e1cada",
   "metadata": {},
   "outputs": [
    {
     "data": {
      "text/plain": [
       "10"
      ]
     },
     "execution_count": 5,
     "metadata": {},
     "output_type": "execute_result"
    }
   ],
   "source": [
    "#How many unique student IDs are in the dataset?\n",
    "df.student_id.nunique()"
   ]
  },
  {
   "cell_type": "code",
   "execution_count": 6,
   "id": "abc18fcc-f32c-4714-91cd-b4b49059955a",
   "metadata": {},
   "outputs": [
    {
     "data": {
      "text/plain": [
       "array([ 1,  2,  3,  4,  5,  6,  7,  8,  9, 10], dtype=int64)"
      ]
     },
     "execution_count": 6,
     "metadata": {},
     "output_type": "execute_result"
    }
   ],
   "source": [
    "#What is the list of unique student IDs in the dataset?\n",
    "df.student_id.unique()"
   ]
  },
  {
   "cell_type": "code",
   "execution_count": 7,
   "id": "dbac5ca7-40ab-439d-8354-613910a329f6",
   "metadata": {},
   "outputs": [
    {
     "data": {
      "text/plain": [
       "5"
      ]
     },
     "execution_count": 7,
     "metadata": {},
     "output_type": "execute_result"
    }
   ],
   "source": [
    "#How many missing grades are there across all exams in the dataset?\n",
    "df.grade.isna().sum()"
   ]
  },
  {
   "cell_type": "code",
   "execution_count": 8,
   "id": "fbdf0c9f-9cd7-4bf0-a0a7-d22d6691fba3",
   "metadata": {},
   "outputs": [],
   "source": [
    "#Replace missing grades with 0\n",
    "df = df.fillna(0)"
   ]
  },
  {
   "cell_type": "code",
   "execution_count": 9,
   "id": "8300ace1-3d73-47b7-aa8d-c54905644427",
   "metadata": {},
   "outputs": [],
   "source": [
    "#select a subset of the data containing all exam grades greater than or equal to 70.\n",
    "passed = df[df[\"grade\"] >= 70]"
   ]
  },
  {
   "cell_type": "code",
   "execution_count": 10,
   "id": "b05cc28a-9243-4892-967b-3ca51b75c186",
   "metadata": {},
   "outputs": [
    {
     "data": {
      "text/plain": [
       "42"
      ]
     },
     "execution_count": 10,
     "metadata": {},
     "output_type": "execute_result"
    }
   ],
   "source": [
    "#How many exam grades are passing (i.e. greater than or equal to 70)?\n",
    "len(passed.index)"
   ]
  },
  {
   "cell_type": "code",
   "execution_count": 11,
   "id": "8c9f4d7c-4cfe-458c-b745-d7fd72524ead",
   "metadata": {},
   "outputs": [
    {
     "data": {
      "text/plain": [
       "array([1, 2, 3, 4, 5], dtype=int64)"
      ]
     },
     "execution_count": 11,
     "metadata": {},
     "output_type": "execute_result"
    }
   ],
   "source": [
    "df.exam.unique()"
   ]
  },
  {
   "cell_type": "code",
   "execution_count": 12,
   "id": "de2fff46-ec44-44dc-90f8-175ac21b3f5e",
   "metadata": {},
   "outputs": [
    {
     "data": {
      "text/plain": [
       "71.0"
      ]
     },
     "execution_count": 12,
     "metadata": {},
     "output_type": "execute_result"
    }
   ],
   "source": [
    "#What is the mean grade for exam 1?\n",
    "exam1 = df[df[\"exam\"] == 1]\n",
    "exam1[\"grade\"].mean()"
   ]
  },
  {
   "cell_type": "code",
   "execution_count": 13,
   "id": "06c09739-27c7-4f4b-bd29-293925d1e8d5",
   "metadata": {},
   "outputs": [
    {
     "data": {
      "text/plain": [
       "73.2"
      ]
     },
     "execution_count": 13,
     "metadata": {},
     "output_type": "execute_result"
    }
   ],
   "source": [
    "#What is the mean grade for exam 2?\n",
    "exam2 = df[df[\"exam\"] == 2]\n",
    "exam2[\"grade\"].mean()"
   ]
  },
  {
   "cell_type": "code",
   "execution_count": 14,
   "id": "5fbef561-19e4-440a-9c9b-307f353abc49",
   "metadata": {},
   "outputs": [
    {
     "data": {
      "text/plain": [
       "74.4"
      ]
     },
     "execution_count": 14,
     "metadata": {},
     "output_type": "execute_result"
    }
   ],
   "source": [
    "#What is the mean grade for exam 3?\n",
    "exam3 = df[df[\"exam\"] == 3]\n",
    "exam3[\"grade\"].mean()"
   ]
  },
  {
   "cell_type": "code",
   "execution_count": 15,
   "id": "8b8f4ecc-4008-4584-aaee-69e218c85338",
   "metadata": {},
   "outputs": [
    {
     "data": {
      "text/plain": [
       "75.6"
      ]
     },
     "execution_count": 15,
     "metadata": {},
     "output_type": "execute_result"
    }
   ],
   "source": [
    "#What is the mean grade for exam 4?\n",
    "exam4 = df[df[\"exam\"] == 4]\n",
    "exam4[\"grade\"].mean()"
   ]
  },
  {
   "cell_type": "code",
   "execution_count": 16,
   "id": "8a63f812-e155-4dea-ab25-7cc213c220d7",
   "metadata": {},
   "outputs": [
    {
     "data": {
      "text/plain": [
       "84.6"
      ]
     },
     "execution_count": 16,
     "metadata": {},
     "output_type": "execute_result"
    }
   ],
   "source": [
    "#What is the mean grade for exam 5?\n",
    "exam5 = df[df[\"exam\"] == 5]\n",
    "exam5[\"grade\"].mean()"
   ]
  },
  {
   "cell_type": "code",
   "execution_count": 17,
   "id": "f9d1d51d-08b8-42bc-898d-fde5cae09c30",
   "metadata": {},
   "outputs": [],
   "source": [
    "#Import the pyplot module in matplotlib’s library and give it the alias of plt\n",
    "%matplotlib inline\n",
    "from matplotlib import pyplot as plt"
   ]
  },
  {
   "cell_type": "code",
   "execution_count": 18,
   "id": "19c85bf1-024d-4ca8-9d15-83859ca8ddae",
   "metadata": {},
   "outputs": [
    {
     "data": {
      "text/plain": [
       "array([[<AxesSubplot:title={'center':'grade'}>]], dtype=object)"
      ]
     },
     "execution_count": 18,
     "metadata": {},
     "output_type": "execute_result"
    },
    {
     "data": {
      "image/png": "[encoded data removed]",
      "text/plain": [
       "<Figure size 432x288 with 1 Axes>"
      ]
     },
     "metadata": {
      "needs_background": "light"
     },
     "output_type": "display_data"
    }
   ],
   "source": [
    "#To visualize the distribution of the exam grades, create a histogram.\n",
    "df.hist(column='grade')"
   ]
  },
  {
   "cell_type": "code",
   "execution_count": null,
   "id": "673b752e-d388-4d76-a0f6-9b88e00e75b8",
   "metadata": {},
   "outputs": [],
   "source": []
  }
 ],
 "metadata": {
  "kernelspec": {
   "display_name": "Python 3 (ipykernel)",
   "language": "python",
   "name": "python3"
  },
  "language_info": {
   "codemirror_mode": {
    "name": "ipython",
    "version": 3
   },
   "file_extension": ".py",
   "mimetype": "text/x-python",
   "name": "python",
   "nbconvert_exporter": "python",
   "pygments_lexer": "ipython3",
   "version": "3.10.4"
  }
 },
 "nbformat": 4,
 "nbformat_minor": 5
}
